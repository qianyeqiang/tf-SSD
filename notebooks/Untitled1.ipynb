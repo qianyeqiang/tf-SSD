{
 "cells": [
  {
   "cell_type": "code",
   "execution_count": 41,
   "metadata": {},
   "outputs": [],
   "source": [
    "import numpy as np\n",
    "import math\n",
    "import tensorflow as tf"
   ]
  },
  {
   "cell_type": "code",
   "execution_count": 42,
   "metadata": {},
   "outputs": [],
   "source": [
    "def ssd_anchor_one_layer(img_shape,\n",
    "                         feat_shape,\n",
    "                         sizes,\n",
    "                         ratios,\n",
    "                         step,\n",
    "                         offset=0.5,\n",
    "                         dtype=np.float32):\n",
    "    \"\"\"Computer SSD default anchor boxes for one feature layer.\n",
    "    Determine the relative position grid of the centers, and the relative\n",
    "    width and height.\n",
    "    Arguments:\n",
    "      feat_shape: Feature shape, used for computing relative position grids;\n",
    "      size: Absolute reference sizes;\n",
    "      ratios: Ratios to use on these features;\n",
    "      img_shape: Image shape, used for computing height, width relatively to the\n",
    "        former;\n",
    "      offset: Grid offset.\n",
    "    Return:\n",
    "      y, x, h, w: Relative x and y grids, and height and width.\n",
    "    \"\"\"\n",
    "    # Compute the position grid: simple way.\n",
    "    # y, x = np.mgrid[0:feat_shape[0], 0:feat_shape[1]]\n",
    "    # y = (y.astype(dtype) + offset) / feat_shape[0]\n",
    "    # x = (x.astype(dtype) + offset) / feat_shape[1]\n",
    "    # Weird SSD-Caffe computation using steps values...\n",
    "    y, x = np.mgrid[0:feat_shape[0], 0:feat_shape[1]]\n",
    "    y = (y.astype(dtype) + offset) * step / img_shape[0]\n",
    "    x = (x.astype(dtype) + offset) * step / img_shape[1]\n",
    "\n",
    "    # Expand dims to support easy broadcasting.\n",
    "    y = np.expand_dims(y, axis=-1)\n",
    "    x = np.expand_dims(x, axis=-1)\n",
    "\n",
    "    # Compute relative height and width.\n",
    "    # Tries to follow the original implementation of SSD for the order.\n",
    "    num_anchors = len(sizes) + len(ratios)\n",
    "    h = np.zeros((num_anchors, ), dtype=dtype)\n",
    "    w = np.zeros((num_anchors, ), dtype=dtype)\n",
    "    # Add first anchor boxes with ratio=1.\n",
    "    h[0] = sizes[0] / img_shape[0]\n",
    "    w[0] = sizes[0] / img_shape[1]\n",
    "    di = 1\n",
    "    if len(sizes) > 1:\n",
    "        h[1] = math.sqrt(sizes[0] * sizes[1]) / img_shape[0]\n",
    "        w[1] = math.sqrt(sizes[0] * sizes[1]) / img_shape[1]\n",
    "        di += 1\n",
    "    for i, r in enumerate(ratios):\n",
    "        h[i+di] = sizes[0] / img_shape[0] / math.sqrt(r)\n",
    "        w[i+di] = sizes[0] / img_shape[1] * math.sqrt(r)\n",
    "    return y, x, h, w"
   ]
  },
  {
   "cell_type": "code",
   "execution_count": 43,
   "metadata": {},
   "outputs": [],
   "source": [
    "img_shape = (300, 300)\n",
    "feat_shape = (5, 5)\n",
    "sizes = (153., 207.)\n",
    "ratios = [2, .5, 3, 1./3]\n",
    "step = 64\n",
    "offset = 0.5\n",
    "dtype = np.float32"
   ]
  },
  {
   "cell_type": "code",
   "execution_count": 44,
   "metadata": {},
   "outputs": [],
   "source": [
    "anchor_bboxes = ssd_anchor_one_layer(img_shape,feat_shape,sizes,ratios,step,offset,dtype)\n",
    "yref, xref, href, wref = anchor_bboxes"
   ]
  },
  {
   "cell_type": "code",
   "execution_count": 45,
   "metadata": {},
   "outputs": [],
   "source": [
    "ymin = yref - href / 2.\n",
    "xmin = xref - wref / 2.\n",
    "ymax = yref + href / 2.\n",
    "xmax = xref + wref / 2."
   ]
  },
  {
   "cell_type": "code",
   "execution_count": 46,
   "metadata": {},
   "outputs": [
    {
     "data": {
      "text/plain": [
       "(5, 5, 6)"
      ]
     },
     "execution_count": 46,
     "metadata": {},
     "output_type": "execute_result"
    }
   ],
   "source": [
    "ymin.shape"
   ]
  },
  {
   "cell_type": "code",
   "execution_count": 47,
   "metadata": {},
   "outputs": [
    {
     "data": {
      "text/plain": [
       "(5, 5, 1)"
      ]
     },
     "execution_count": 47,
     "metadata": {},
     "output_type": "execute_result"
    }
   ],
   "source": [
    "yref.shape"
   ]
  },
  {
   "cell_type": "code",
   "execution_count": 48,
   "metadata": {},
   "outputs": [],
   "source": [
    "vol_anchors = (xmax - xmin) * (ymax - ymin)"
   ]
  },
  {
   "cell_type": "code",
   "execution_count": 49,
   "metadata": {},
   "outputs": [],
   "source": [
    "shape = (yref.shape[0], yref.shape[1], href.size)\n",
    "feat_labels = tf.zeros(shape, dtype=tf.int64)\n",
    "feat_scores = tf.zeros(shape, dtype=dtype)\n",
    "#shape为（38,38,4）\n",
    "feat_ymin = tf.zeros(shape, dtype=dtype)\n",
    "feat_xmin = tf.zeros(shape, dtype=dtype)\n",
    "feat_ymax = tf.ones(shape, dtype=dtype)\n",
    "feat_xmax = tf.ones(shape, dtype=dtype)"
   ]
  },
  {
   "cell_type": "code",
   "execution_count": 50,
   "metadata": {},
   "outputs": [
    {
     "data": {
      "text/plain": [
       "(5, 5, 6)"
      ]
     },
     "execution_count": 50,
     "metadata": {},
     "output_type": "execute_result"
    }
   ],
   "source": [
    "shape"
   ]
  },
  {
   "cell_type": "code",
   "execution_count": 51,
   "metadata": {},
   "outputs": [],
   "source": [
    "def jaccard_with_anchors(bbox):\n",
    "        \"\"\"Compute jaccard score a box and the anchors.\n",
    "        \"\"\"\n",
    "        # Intersection bbox and volume.\n",
    "        int_ymin = max(ymin, bbox[0])\n",
    "        int_xmin = max(xmin, bbox[1])\n",
    "        int_ymax = min(ymax, bbox[2])\n",
    "        int_xmax = min(xmax, bbox[3])\n",
    "        h = max(int_ymax - int_ymin, 0.)\n",
    "        w = max(int_xmax - int_xmin, 0.)\n",
    "\n",
    "        # Volumes.\n",
    "        inter_vol = h * w\n",
    "        union_vol = vol_anchors - inter_vol \\\n",
    "            + (bbox[2] - bbox[0]) * (bbox[3] - bbox[1])\n",
    "        jaccard = tf.div(inter_vol, union_vol)\n",
    "        return np.zeros(ymin.shape)"
   ]
  },
  {
   "cell_type": "code",
   "execution_count": 58,
   "metadata": {},
   "outputs": [],
   "source": [
    "bbox = [0,0,10,10]"
   ]
  },
  {
   "cell_type": "code",
   "execution_count": 63,
   "metadata": {},
   "outputs": [
    {
     "ename": "TypeError",
     "evalue": "only integer scalar arrays can be converted to a scalar index",
     "output_type": "error",
     "traceback": [
      "\u001b[0;31m---------------------------------------------------------------------------\u001b[0m",
      "\u001b[0;31mTypeError\u001b[0m                                 Traceback (most recent call last)",
      "\u001b[0;32m<ipython-input-63-f056782c469a>\u001b[0m in \u001b[0;36m<module>\u001b[0;34m()\u001b[0m\n\u001b[0;32m----> 1\u001b[0;31m \u001b[0mnp\u001b[0m\u001b[0;34m.\u001b[0m\u001b[0mmax\u001b[0m\u001b[0;34m(\u001b[0m\u001b[0mymin\u001b[0m\u001b[0;34m,\u001b[0m \u001b[0mnp\u001b[0m\u001b[0;34m.\u001b[0m\u001b[0mones\u001b[0m\u001b[0;34m(\u001b[0m\u001b[0mymin\u001b[0m\u001b[0;34m.\u001b[0m\u001b[0mshape\u001b[0m\u001b[0;34m)\u001b[0m\u001b[0;34m*\u001b[0m\u001b[0mbbox\u001b[0m\u001b[0;34m[\u001b[0m\u001b[0;36m0\u001b[0m\u001b[0;34m]\u001b[0m\u001b[0;34m)\u001b[0m\u001b[0;34m\u001b[0m\u001b[0m\n\u001b[0m",
      "\u001b[0;32m~/env/tf/lib/python3.5/site-packages/numpy/core/fromnumeric.py\u001b[0m in \u001b[0;36mamax\u001b[0;34m(a, axis, out, keepdims)\u001b[0m\n\u001b[1;32m   2270\u001b[0m \u001b[0;34m\u001b[0m\u001b[0m\n\u001b[1;32m   2271\u001b[0m     return _methods._amax(a, axis=axis,\n\u001b[0;32m-> 2272\u001b[0;31m                           out=out, **kwargs)\n\u001b[0m\u001b[1;32m   2273\u001b[0m \u001b[0;34m\u001b[0m\u001b[0m\n\u001b[1;32m   2274\u001b[0m \u001b[0;34m\u001b[0m\u001b[0m\n",
      "\u001b[0;32m~/env/tf/lib/python3.5/site-packages/numpy/core/_methods.py\u001b[0m in \u001b[0;36m_amax\u001b[0;34m(a, axis, out, keepdims)\u001b[0m\n\u001b[1;32m     24\u001b[0m \u001b[0;31m# small reductions\u001b[0m\u001b[0;34m\u001b[0m\u001b[0;34m\u001b[0m\u001b[0m\n\u001b[1;32m     25\u001b[0m \u001b[0;32mdef\u001b[0m \u001b[0m_amax\u001b[0m\u001b[0;34m(\u001b[0m\u001b[0ma\u001b[0m\u001b[0;34m,\u001b[0m \u001b[0maxis\u001b[0m\u001b[0;34m=\u001b[0m\u001b[0;32mNone\u001b[0m\u001b[0;34m,\u001b[0m \u001b[0mout\u001b[0m\u001b[0;34m=\u001b[0m\u001b[0;32mNone\u001b[0m\u001b[0;34m,\u001b[0m \u001b[0mkeepdims\u001b[0m\u001b[0;34m=\u001b[0m\u001b[0;32mFalse\u001b[0m\u001b[0;34m)\u001b[0m\u001b[0;34m:\u001b[0m\u001b[0;34m\u001b[0m\u001b[0m\n\u001b[0;32m---> 26\u001b[0;31m     \u001b[0;32mreturn\u001b[0m \u001b[0mumr_maximum\u001b[0m\u001b[0;34m(\u001b[0m\u001b[0ma\u001b[0m\u001b[0;34m,\u001b[0m \u001b[0maxis\u001b[0m\u001b[0;34m,\u001b[0m \u001b[0;32mNone\u001b[0m\u001b[0;34m,\u001b[0m \u001b[0mout\u001b[0m\u001b[0;34m,\u001b[0m \u001b[0mkeepdims\u001b[0m\u001b[0;34m)\u001b[0m\u001b[0;34m\u001b[0m\u001b[0m\n\u001b[0m\u001b[1;32m     27\u001b[0m \u001b[0;34m\u001b[0m\u001b[0m\n\u001b[1;32m     28\u001b[0m \u001b[0;32mdef\u001b[0m \u001b[0m_amin\u001b[0m\u001b[0;34m(\u001b[0m\u001b[0ma\u001b[0m\u001b[0;34m,\u001b[0m \u001b[0maxis\u001b[0m\u001b[0;34m=\u001b[0m\u001b[0;32mNone\u001b[0m\u001b[0;34m,\u001b[0m \u001b[0mout\u001b[0m\u001b[0;34m=\u001b[0m\u001b[0;32mNone\u001b[0m\u001b[0;34m,\u001b[0m \u001b[0mkeepdims\u001b[0m\u001b[0;34m=\u001b[0m\u001b[0;32mFalse\u001b[0m\u001b[0;34m)\u001b[0m\u001b[0;34m:\u001b[0m\u001b[0;34m\u001b[0m\u001b[0m\n",
      "\u001b[0;31mTypeError\u001b[0m: only integer scalar arrays can be converted to a scalar index"
     ]
    }
   ],
   "source": []
  },
  {
   "cell_type": "code",
   "execution_count": null,
   "metadata": {},
   "outputs": [],
   "source": []
  }
 ],
 "metadata": {
  "kernelspec": {
   "display_name": "Python 3",
   "language": "python",
   "name": "python3"
  },
  "language_info": {
   "codemirror_mode": {
    "name": "ipython",
    "version": 3
   },
   "file_extension": ".py",
   "mimetype": "text/x-python",
   "name": "python",
   "nbconvert_exporter": "python",
   "pygments_lexer": "ipython3",
   "version": "3.5.2"
  }
 },
 "nbformat": 4,
 "nbformat_minor": 2
}
