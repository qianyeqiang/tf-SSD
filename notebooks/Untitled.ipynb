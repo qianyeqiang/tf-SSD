{
 "cells": [
  {
   "cell_type": "code",
   "execution_count": null,
   "metadata": {},
   "outputs": [],
   "source": [
    "import numpy as np\n",
    "import math"
   ]
  },
  {
   "cell_type": "code",
   "execution_count": 9,
   "metadata": {},
   "outputs": [],
   "source": [
    "def ssd_anchor_one_layer(img_shape,\n",
    "                         feat_shape,\n",
    "                         sizes,\n",
    "                         ratios,\n",
    "                         step,\n",
    "                         offset=0.5,\n",
    "                         dtype=np.float32):\n",
    "    \"\"\"Computer SSD default anchor boxes for one feature layer.\n",
    "    Determine the relative position grid of the centers, and the relative\n",
    "    width and height.\n",
    "    Arguments:\n",
    "      feat_shape: Feature shape, used for computing relative position grids;\n",
    "      size: Absolute reference sizes;\n",
    "      ratios: Ratios to use on these features;\n",
    "      img_shape: Image shape, used for computing height, width relatively to the\n",
    "        former;\n",
    "      offset: Grid offset.\n",
    "    Return:\n",
    "      y, x, h, w: Relative x and y grids, and height and width.\n",
    "    \"\"\"\n",
    "    # Compute the position grid: simple way.\n",
    "    # y, x = np.mgrid[0:feat_shape[0], 0:feat_shape[1]]\n",
    "    # y = (y.astype(dtype) + offset) / feat_shape[0]\n",
    "    # x = (x.astype(dtype) + offset) / feat_shape[1]\n",
    "    # Weird SSD-Caffe computation using steps values...\n",
    "    y, x = np.mgrid[0:feat_shape[0], 0:feat_shape[1]]\n",
    "    y = (y.astype(dtype) + offset) * step / img_shape[0]\n",
    "    x = (x.astype(dtype) + offset) * step / img_shape[1]\n",
    "\n",
    "    # Expand dims to support easy broadcasting.\n",
    "    y = np.expand_dims(y, axis=-1)\n",
    "    x = np.expand_dims(x, axis=-1)\n",
    "\n",
    "    # Compute relative height and width.\n",
    "    # Tries to follow the original implementation of SSD for the order.\n",
    "    num_anchors = len(sizes) + len(ratios)\n",
    "    h = np.zeros((num_anchors, ), dtype=dtype)\n",
    "    w = np.zeros((num_anchors, ), dtype=dtype)\n",
    "    # Add first anchor boxes with ratio=1.\n",
    "    h[0] = sizes[0] / img_shape[0]\n",
    "    w[0] = sizes[0] / img_shape[1]\n",
    "    di = 1\n",
    "    if len(sizes) > 1:\n",
    "        h[1] = math.sqrt(sizes[0] * sizes[1]) / img_shape[0]\n",
    "        w[1] = math.sqrt(sizes[0] * sizes[1]) / img_shape[1]\n",
    "        di += 1\n",
    "    for i, r in enumerate(ratios):\n",
    "        h[i+di] = sizes[0] / img_shape[0] / math.sqrt(r)\n",
    "        w[i+di] = sizes[0] / img_shape[1] * math.sqrt(r)\n",
    "    return y, x, h, w"
   ]
  },
  {
   "cell_type": "code",
   "execution_count": 10,
   "metadata": {},
   "outputs": [],
   "source": [
    "img_shape = (300, 300)\n",
    "feat_shape = (5, 5)\n",
    "sizes = (153., 207.)\n",
    "ratios = [2, .5, 3, 1./3]\n",
    "step = 64\n",
    "offset = 0.5\n",
    "dtype = np.float32"
   ]
  },
  {
   "cell_type": "code",
   "execution_count": 11,
   "metadata": {},
   "outputs": [],
   "source": [
    "anchor_bboxes = ssd_anchor_one_layer(img_shape,feat_shape,sizes,ratios,step,offset,dtype)"
   ]
  },
  {
   "cell_type": "code",
   "execution_count": 14,
   "metadata": {},
   "outputs": [],
   "source": [
    " yref, xref, href, wref = anchor_bboxes"
   ]
  },
  {
   "cell_type": "code",
   "execution_count": 22,
   "metadata": {},
   "outputs": [],
   "source": [
    "ymin = yref - href / 2.\n",
    "xmin = xref - wref / 2.\n",
    "ymax = yref + href / 2.\n",
    "xmax = xref + wref / 2."
   ]
  },
  {
   "cell_type": "code",
   "execution_count": 25,
   "metadata": {},
   "outputs": [
    {
     "data": {
      "text/plain": [
       "(5, 5, 6)"
      ]
     },
     "execution_count": 25,
     "metadata": {},
     "output_type": "execute_result"
    }
   ],
   "source": [
    "xmin.shape"
   ]
  },
  {
   "cell_type": "code",
   "execution_count": 18,
   "metadata": {},
   "outputs": [
    {
     "data": {
      "text/plain": [
       "(6,)"
      ]
     },
     "execution_count": 18,
     "metadata": {},
     "output_type": "execute_result"
    }
   ],
   "source": [
    "href.shape"
   ]
  },
  {
   "cell_type": "code",
   "execution_count": 20,
   "metadata": {},
   "outputs": [
    {
     "data": {
      "text/plain": [
       "(6,)"
      ]
     },
     "execution_count": 20,
     "metadata": {},
     "output_type": "execute_result"
    }
   ],
   "source": [
    "wref.shape"
   ]
  },
  {
   "cell_type": "code",
   "execution_count": 21,
   "metadata": {},
   "outputs": [
    {
     "data": {
      "text/plain": [
       "array([[[ 0.10666667],\n",
       "        [ 0.10666667],\n",
       "        [ 0.10666667],\n",
       "        [ 0.10666667],\n",
       "        [ 0.10666667]],\n",
       "\n",
       "       [[ 0.31999999],\n",
       "        [ 0.31999999],\n",
       "        [ 0.31999999],\n",
       "        [ 0.31999999],\n",
       "        [ 0.31999999]],\n",
       "\n",
       "       [[ 0.53333336],\n",
       "        [ 0.53333336],\n",
       "        [ 0.53333336],\n",
       "        [ 0.53333336],\n",
       "        [ 0.53333336]],\n",
       "\n",
       "       [[ 0.74666667],\n",
       "        [ 0.74666667],\n",
       "        [ 0.74666667],\n",
       "        [ 0.74666667],\n",
       "        [ 0.74666667]],\n",
       "\n",
       "       [[ 0.95999998],\n",
       "        [ 0.95999998],\n",
       "        [ 0.95999998],\n",
       "        [ 0.95999998],\n",
       "        [ 0.95999998]]], dtype=float32)"
      ]
     },
     "execution_count": 21,
     "metadata": {},
     "output_type": "execute_result"
    }
   ],
   "source": [
    "yref"
   ]
  },
  {
   "cell_type": "code",
   "execution_count": null,
   "metadata": {},
   "outputs": [],
   "source": []
  }
 ],
 "metadata": {
  "kernelspec": {
   "display_name": "Python 3",
   "language": "python",
   "name": "python3"
  },
  "language_info": {
   "codemirror_mode": {
    "name": "ipython",
    "version": 3
   },
   "file_extension": ".py",
   "mimetype": "text/x-python",
   "name": "python",
   "nbconvert_exporter": "python",
   "pygments_lexer": "ipython3",
   "version": "3.5.2"
  }
 },
 "nbformat": 4,
 "nbformat_minor": 2
}
